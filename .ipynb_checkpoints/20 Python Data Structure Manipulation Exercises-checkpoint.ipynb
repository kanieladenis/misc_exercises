{
 "cells": [
  {
   "cell_type": "markdown",
   "id": "ab690a92",
   "metadata": {},
   "source": [
    "# 20 Python Data Structure Manipulation Exercises"
   ]
  },
  {
   "cell_type": "code",
   "execution_count": null,
   "id": "e69085cc",
   "metadata": {},
   "outputs": [],
   "source": [
    "import students"
   ]
  },
  {
   "cell_type": "markdown",
   "id": "e5553157",
   "metadata": {},
   "source": [
    "### The following questions reference the students data structure below. Write the python code to answer the following questions:\n",
    "\n",
    "1. How many students are there?\n",
    "2. How many students prefer light coffee? For each type of coffee roast?\n",
    "3. How many types of each pet are there?\n",
    "4. How many grades does each student have? Do they all have the same number of grades?\n",
    "5. What is each student's grade average?\n",
    "6. How many pets does each student have?\n",
    "7. How many students are in web development? data science?\n",
    "8. What is the average number of pets for students in web development?\n",
    "9. What is the average pet age for students in data science?\n",
    "10. What is most frequent coffee preference for data science students?\n",
    "11. What is the least frequent coffee preference for web development students?\n",
    "12. What is the average grade for students with at least 2 pets?\n",
    "13. How many students have 3 pets?\n",
    "14. What is the average grade for students with 0 pets?\n",
    "15. What is the average grade for web development students? data science students?\n",
    "16. What is the average grade range (i.e. highest grade - lowest grade) for dark coffee drinkers?\n",
    "17. What is the average number of pets for medium coffee drinkers?\n",
    "18. What is the most common type of pet for web development students?\n",
    "19. What is the average name length?\n",
    "20. What is the highest pet age for light coffee drinkers?"
   ]
  },
  {
   "cell_type": "code",
   "execution_count": null,
   "id": "5b98f567",
   "metadata": {},
   "outputs": [],
   "source": []
  }
 ],
 "metadata": {
  "kernelspec": {
   "display_name": "Python 3",
   "language": "python",
   "name": "python3"
  },
  "language_info": {
   "codemirror_mode": {
    "name": "ipython",
    "version": 3
   },
   "file_extension": ".py",
   "mimetype": "text/x-python",
   "name": "python",
   "nbconvert_exporter": "python",
   "pygments_lexer": "ipython3",
   "version": "3.8.8"
  }
 },
 "nbformat": 4,
 "nbformat_minor": 5
}
