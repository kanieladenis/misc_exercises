{
 "cells": [
  {
   "cell_type": "markdown",
   "id": "90a48006",
   "metadata": {},
   "source": [
    "# 20 Python Data Structure Manipulation Exercises"
   ]
  },
  {
   "cell_type": "code",
   "execution_count": null,
   "id": "80e73bd9",
   "metadata": {},
   "outputs": [],
   "source": [
    "# %load students.py\n",
    "students = [\n",
    "    {\n",
    "        \"id\": \"100001\",\n",
    "        \"student\": \"Ada Lovelace\",\n",
    "        \"coffee_preference\": \"light\",\n",
    "        \"course\": \"web development\",\n",
    "        \"grades\": [70, 91, 82, 71],\n",
    "        \"pets\": [{\"species\": \"horse\", \"age\": 8}],\n",
    "    },\n",
    "    {\n",
    "        \"id\": \"100002\",\n",
    "        \"student\": \"Thomas Bayes\",\n",
    "        \"coffee_preference\": \"medium\",\n",
    "        \"course\": \"data science\",\n",
    "        \"grades\": [75, 73, 86, 100],\n",
    "        \"pets\": [],\n",
    "    },\n",
    "    {\n",
    "        \"id\": \"100003\",\n",
    "        \"student\": \"Marie Curie\",\n",
    "        \"coffee_preference\": \"light\",\n",
    "        \"course\": \"web development\",\n",
    "        \"grades\": [70, 89, 69, 65],\n",
    "        \"pets\": [{\"species\": \"cat\", \"age\": 0}],\n",
    "    },\n",
    "    {\n",
    "        \"id\": \"100004\",\n",
    "        \"student\": \"Grace Hopper\",\n",
    "        \"coffee_preference\": \"dark\",\n",
    "        \"course\": \"data science\",\n",
    "        \"grades\": [73, 66, 83, 92],\n",
    "        \"pets\": [{\"species\": \"dog\", \"age\": 4}, {\"species\": \"cat\", \"age\": 4}],\n",
    "    },\n",
    "    {\n",
    "        \"id\": \"100005\",\n",
    "        \"student\": \"Alan Turing\",\n",
    "        \"coffee_preference\": \"dark\",\n",
    "        \"course\": \"web development\",\n",
    "        \"grades\": [78, 98, 85, 65],\n",
    "        \"pets\": [\n",
    "            {\"species\": \"horse\", \"age\": 6},\n",
    "            {\"species\": \"horse\", \"age\": 7},\n",
    "            {\"species\": \"dog\", \"age\": 5},\n",
    "        ],\n",
    "    },\n",
    "    {\n",
    "        \"id\": \"100006\",\n",
    "        \"student\": \"Rosalind Franklin\",\n",
    "        \"coffee_preference\": \"dark\",\n",
    "        \"course\": \"data science\",\n",
    "        \"grades\": [76, 70, 96, 81],\n",
    "        \"pets\": [],\n",
    "    },\n",
    "    {\n",
    "        \"id\": \"100007\",\n",
    "        \"student\": \"Elizabeth Blackwell\",\n",
    "        \"coffee_preference\": \"dark\",\n",
    "        \"course\": \"web development\",\n",
    "        \"grades\": [69, 94, 89, 86],\n",
    "        \"pets\": [{\"species\": \"cat\", \"age\": 10}],\n",
    "    },\n",
    "    {\n",
    "        \"id\": \"100008\",\n",
    "        \"student\": \"Rene Descartes\",\n",
    "        \"coffee_preference\": \"medium\",\n",
    "        \"course\": \"data science\",\n",
    "        \"grades\": [87, 79, 90, 99],\n",
    "        \"pets\": [{\"species\": \"cat\", \"age\": 10}, {\"species\": \"cat\", \"age\": 8}],\n",
    "    },\n",
    "    {\n",
    "        \"id\": \"100009\",\n",
    "        \"student\": \"Ahmed Zewail\",\n",
    "        \"coffee_preference\": \"medium\",\n",
    "        \"course\": \"data science\",\n",
    "        \"grades\": [74, 99, 93, 89],\n",
    "        \"pets\": [{\"species\": \"cat\", \"age\": 0}, {\"species\": \"cat\", \"age\": 0}],\n",
    "    },\n",
    "    {\n",
    "        \"id\": \"100010\",\n",
    "        \"student\": \"Chien-Shiung Wu\",\n",
    "        \"coffee_preference\": \"medium\",\n",
    "        \"course\": \"web development\",\n",
    "        \"grades\": [82, 92, 91, 65],\n",
    "        \"pets\": [{\"species\": \"cat\", \"age\": 8}],\n",
    "    },\n",
    "    {\n",
    "        \"id\": \"100011\",\n",
    "        \"student\": \"William Sanford Nye\",\n",
    "        \"coffee_preference\": \"dark\",\n",
    "        \"course\": \"data science\",\n",
    "        \"grades\": [70, 92, 65, 99],\n",
    "        \"pets\": [{\"species\": \"cat\", \"age\": 8}, {\"species\": \"cat\", \"age\": 5}],\n",
    "    },\n",
    "    {\n",
    "        \"id\": \"100012\",\n",
    "        \"student\": \"Carl Sagan\",\n",
    "        \"coffee_preference\": \"medium\",\n",
    "        \"course\": \"data science\",\n",
    "        \"grades\": [100, 86, 91, 87],\n",
    "        \"pets\": [{\"species\": \"cat\", \"age\": 10}],\n",
    "    },\n",
    "    {\n",
    "        \"id\": \"100013\",\n",
    "        \"student\": \"Jane Goodall\",\n",
    "        \"coffee_preference\": \"light\",\n",
    "        \"course\": \"web development\",\n",
    "        \"grades\": [80, 70, 68, 98],\n",
    "        \"pets\": [{\"species\": \"horse\", \"age\": 4}],\n",
    "    },\n",
    "    {\n",
    "        \"id\": \"100014\",\n",
    "        \"student\": \"Richard Feynman\",\n",
    "        \"coffee_preference\": \"medium\",\n",
    "        \"course\": \"web development\",\n",
    "        \"grades\": [73, 99, 86, 98],\n",
    "        \"pets\": [{\"species\": \"dog\", \"age\": 6}],\n",
    "    },\n",
    "]\n"
   ]
  },
  {
   "cell_type": "markdown",
   "id": "cc7891e2",
   "metadata": {},
   "source": [
    "### The following questions reference the students data structure below. Write the python code to answer the following questions:\n",
    "\n"
   ]
  },
  {
   "cell_type": "markdown",
   "id": "e56e2795",
   "metadata": {},
   "source": [
    "1. How many students are there?"
   ]
  },
  {
   "cell_type": "code",
   "execution_count": 9,
   "id": "cbc85ff5",
   "metadata": {},
   "outputs": [
    {
     "data": {
      "text/plain": [
       "14"
      ]
     },
     "execution_count": 9,
     "metadata": {},
     "output_type": "execute_result"
    }
   ],
   "source": [
    "len(students)"
   ]
  },
  {
   "cell_type": "markdown",
   "id": "ede7624d",
   "metadata": {},
   "source": [
    "2. How many students prefer light coffee? For each type of coffee roast?"
   ]
  },
  {
   "cell_type": "code",
   "execution_count": 16,
   "id": "804e411c",
   "metadata": {},
   "outputs": [
    {
     "data": {
      "text/plain": [
       "3"
      ]
     },
     "execution_count": 16,
     "metadata": {},
     "output_type": "execute_result"
    }
   ],
   "source": [
    "len([student['coffee_preference'] for student in students if student['coffee_preference'] == 'light'])"
   ]
  },
  {
   "cell_type": "code",
   "execution_count": 17,
   "id": "8562bf12",
   "metadata": {},
   "outputs": [
    {
     "data": {
      "text/plain": [
       "6"
      ]
     },
     "execution_count": 17,
     "metadata": {},
     "output_type": "execute_result"
    }
   ],
   "source": [
    "len([student['coffee_preference'] for student in students if student['coffee_preference'] == 'medium'])"
   ]
  },
  {
   "cell_type": "code",
   "execution_count": 18,
   "id": "0aa5580f",
   "metadata": {},
   "outputs": [
    {
     "data": {
      "text/plain": [
       "5"
      ]
     },
     "execution_count": 18,
     "metadata": {},
     "output_type": "execute_result"
    }
   ],
   "source": [
    "len([student['coffee_preference'] for student in students if student['coffee_preference'] == 'dark'])"
   ]
  },
  {
   "cell_type": "markdown",
   "id": "4dd3351f",
   "metadata": {},
   "source": [
    "3. How many types of each pet are there?"
   ]
  },
  {
   "cell_type": "code",
   "execution_count": null,
   "id": "e4125cf4",
   "metadata": {},
   "outputs": [],
   "source": [
    "for pets in students:\n",
    "    for species in pets:\n",
    "    "
   ]
  },
  {
   "cell_type": "markdown",
   "id": "c9bdb7d9",
   "metadata": {},
   "source": [
    "4. How many grades does each student have? Do they all have the same number of grades?"
   ]
  },
  {
   "cell_type": "markdown",
   "id": "c74b9613",
   "metadata": {},
   "source": [
    "5. What is each student's grade average"
   ]
  },
  {
   "cell_type": "markdown",
   "id": "57717b6a",
   "metadata": {},
   "source": [
    "6. How many pets does each student have?"
   ]
  },
  {
   "cell_type": "markdown",
   "id": "fa27462c",
   "metadata": {},
   "source": [
    "7. How many students are in web development? data science?"
   ]
  },
  {
   "cell_type": "markdown",
   "id": "ad56f9db",
   "metadata": {},
   "source": [
    "8. What is the average number of pets for students in web development?"
   ]
  },
  {
   "cell_type": "markdown",
   "id": "86962da0",
   "metadata": {},
   "source": [
    "9. What is the average pet age for students in data science?"
   ]
  },
  {
   "cell_type": "markdown",
   "id": "cd9e9205",
   "metadata": {},
   "source": [
    "10. What is most frequent coffee preference for data science students"
   ]
  },
  {
   "cell_type": "markdown",
   "id": "54513154",
   "metadata": {},
   "source": [
    "11. What is the least frequent coffee preference for web development students?"
   ]
  },
  {
   "cell_type": "markdown",
   "id": "0f2cf35b",
   "metadata": {},
   "source": [
    "12. What is the average grade for students with at least 2 pets?"
   ]
  },
  {
   "cell_type": "markdown",
   "id": "4bd6e991",
   "metadata": {},
   "source": [
    "13. How many students have 3 pets?"
   ]
  },
  {
   "cell_type": "markdown",
   "id": "14571d79",
   "metadata": {},
   "source": [
    "14. What is the average grade for students with 0 pets?"
   ]
  },
  {
   "cell_type": "markdown",
   "id": "5971918f",
   "metadata": {},
   "source": [
    "15. What is the average grade for web development students? data science students?"
   ]
  },
  {
   "cell_type": "markdown",
   "id": "307e671d",
   "metadata": {},
   "source": [
    "16. What is the average grade range (i.e. highest grade - lowest grade) for dark coffee drinkers?"
   ]
  },
  {
   "cell_type": "markdown",
   "id": "8bef0591",
   "metadata": {},
   "source": [
    "17. What is the average number of pets for medium coffee drinkers?"
   ]
  },
  {
   "cell_type": "markdown",
   "id": "747a6803",
   "metadata": {},
   "source": [
    "18. What is the most common type of pet for web development students?"
   ]
  },
  {
   "cell_type": "markdown",
   "id": "8709e8f8",
   "metadata": {},
   "source": [
    "19. What is the average name length?"
   ]
  },
  {
   "cell_type": "markdown",
   "id": "5d2fd524",
   "metadata": {},
   "source": [
    "20. What is the highest pet age for light coffee drinkers?"
   ]
  }
 ],
 "metadata": {
  "kernelspec": {
   "display_name": "Python 3",
   "language": "python",
   "name": "python3"
  },
  "language_info": {
   "codemirror_mode": {
    "name": "ipython",
    "version": 3
   },
   "file_extension": ".py",
   "mimetype": "text/x-python",
   "name": "python",
   "nbconvert_exporter": "python",
   "pygments_lexer": "ipython3",
   "version": "3.8.8"
  }
 },
 "nbformat": 4,
 "nbformat_minor": 5
}
